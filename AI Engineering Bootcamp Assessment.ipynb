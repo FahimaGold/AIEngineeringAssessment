{
 "cells": [
  {
   "cell_type": "markdown",
   "metadata": {},
   "source": [
    "# AI Engineering Bootcamp Assessment\n",
    "\n",
    "\n",
    "Dear Applicant, \n",
    "\n",
    "As a next step, we would like to invite you to answer some technical questions before the second interview in order to make sure the technical requirements for the course are meet. Having candidates which meet this criteria is essential in order to deliver on the promice of you all getting a good job position after this one finishes.\n",
    "\n",
    "In this assignment you will prepare a Python module (`assignment_NAME_SURNAME.py` file) with a number of function definitions. Do **not** submit a notebook file.\n",
    "\n",
    "### Instructions \n",
    "\n",
    "\n",
    "This is an individual assignment. You **are** allowed to look up questions and answers on Stack Overflow and similar websites and adapt them, but you are not allowed to copy and paste entire solutions into your submission. As a rule of thumb, do not copy and paste from the internet anything larger than one line of code into your submission.\n",
    "\n",
    "The duration of the assignment is **1h approx**.\n",
    "\n",
    "Send an email with your submission attached to hello@akademy.ai (email subect: AI Engineering Bootcamp Assessment |NAME|)\n",
    "\n",
    "\n",
    "## Tasks\n",
    "\n",
    "### Task 0 (example)\n",
    "\n",
    "Define function ``average`` which takes an array of numbers and returns\n",
    "the arithmetic mean of them. The function should work like this:"
   ]
  },
  {
   "cell_type": "code",
   "execution_count": 1,
   "metadata": {},
   "outputs": [
    {
     "name": "stdout",
     "output_type": "stream",
     "text": [
      "2.0\n",
      "1.0\n"
     ]
    }
   ],
   "source": [
    "import numpy\n",
    "from assignment import average\n",
    "a = numpy.array([1.0, 2.0, 3.0])\n",
    "b = numpy.ones((2,3))\n",
    "print(average(a))\n",
    "print(average(b))"
   ]
  },
  {
   "cell_type": "markdown",
   "metadata": {},
   "source": [
    "Solution:\n",
    "\n",
    "```python\n",
    "   def average(x):\n",
    "      return x.mean()\n",
    "```      "
   ]
  },
  {
   "cell_type": "markdown",
   "metadata": {},
   "source": [
    "### Task 1 (Easy)\n",
    "\n",
    "Peter studies and lives in Barcelona. He will start an internship in Sabadell in the next year and unfortunately, he has to pay to travel for the train. The supervisor of his internship gave Peter a choice: Peter can decide for himself how many days he wants to follow the internship. Because Peter does not want to have any loan in the end of his studies, he wants to calculate how many days he can follow the internship without ending up with any debts. \n",
    "\n",
    "Write function ``internship_days`` that calculates the amount of days Peter can travel back and forth given his income and the travel costs, rent and other expenses he has to pay every month (hint: remember that Peter needs to come back every day).\n",
    "\n",
    "Please complete the definition of the function. Here is what you can assume about this function:\n",
    "* The input parameters 'income', 'travel_costs', 'rent' and 'other_expenses' are non-negative float values. \n",
    "* The function 'internship_days' must return a non-negative integer as its return value, reflecting the number of days Peter can afford traveling back and forth.\n",
    "* The returned value cannot be greater than 30 (maximum days in a month that Pieter can do the internship, for this assignment: each month contains 30 days).\n",
    "\n",
    "For example:"
   ]
  },
  {
   "cell_type": "code",
   "execution_count": 5,
   "metadata": {},
   "outputs": [
    {
     "data": {
      "text/plain": [
       "25"
      ]
     },
     "execution_count": 5,
     "metadata": {},
     "output_type": "execute_result"
    }
   ],
   "source": [
    "from assignment import internship_days\n",
    "internship_days(1000,12,300,100)"
   ]
  },
  {
   "cell_type": "markdown",
   "metadata": {},
   "source": [
    "### Task 2 (Easy)\n",
    "\n",
    "Peter wants to earn a bit more money and takes a job as a bartender at a student cafe that only serves beer (cost 2.00), wine (cost 2.50) and sodas (cost 1.50). After taking each order, Peter should calculate the amount people have to pay.\n",
    "\n",
    "Write function ``calculate_payment`` that gets a string with the ordered drinks as single letters, where each letter indicates one ordered drink ('B' stands for beer, 'W' stands for wine and 'S' stands for sodas). The function returns the amount that should be payed for the given order.\n",
    "\n",
    "Please complete the definition of the function. Here is what you can assume about this function:\n",
    "* The input parameter 'order' is a string, where each letter is either 'B', 'S' or 'W'. \n",
    "* The input string can be empty or it can contain multiple occurrences of the same letter. \n",
    "* You can assume that all letters in 'order' are capitalized, and no letters other than 'B', 'S' and 'W' can be found in 'order'.\n",
    "* The function 'calculate_payment' returns a float value, reflecting the total cost of drinks specified by 'order'.\n",
    "\n",
    "*Example:* calculate_payment('BBSS') returns **7.0**.\n",
    "\n",
    "For example:"
   ]
  },
  {
   "cell_type": "code",
   "execution_count": 6,
   "metadata": {},
   "outputs": [
    {
     "data": {
      "text/plain": [
       "7.0"
      ]
     },
     "execution_count": 6,
     "metadata": {},
     "output_type": "execute_result"
    }
   ],
   "source": [
    "from assignment import calculate_payment\n",
    "calculate_payment('BBSS')"
   ]
  },
  {
   "cell_type": "markdown",
   "metadata": {},
   "source": [
    "### Task 3 (Medium)\n",
    "\n",
    "Implement function ``maximum_by`` which takes a pandas DataFrame and a column name,\n",
    "and returns the row of this DataFrame which has the largest value for the specified column.\n",
    "For example:\n",
    "\n",
    "(Use the \"winequality-red.csv\" file stored in the assessment folder)"
   ]
  },
  {
   "cell_type": "code",
   "execution_count": 3,
   "metadata": {},
   "outputs": [
    {
     "name": "stdout",
     "output_type": "stream",
     "text": [
      "fixed acidity           15.9000\n",
      "volatile acidity         0.3600\n",
      "citric acid              0.6500\n",
      "residual sugar           7.5000\n",
      "chlorides                0.0960\n",
      "free sulfur dioxide     22.0000\n",
      "total sulfur dioxide    71.0000\n",
      "density                  0.9976\n",
      "pH                       2.9800\n",
      "sulphates                0.8400\n",
      "alcohol                 14.9000\n",
      "quality                  5.0000\n",
      "Name: 652, dtype: float64\n",
      "\n",
      "title    Representation of linguistic form and function...\n",
      "cited                                                   14\n",
      "year                                                  2017\n",
      "Name: 9, dtype: object\n",
      "\n",
      "title    Learning morphology with morfette\n",
      "cited                                   82\n",
      "year                                  2008\n",
      "Name: 0, dtype: object\n"
     ]
    }
   ],
   "source": [
    "import pandas as pd\n",
    "from assignment import maximum_by\n",
    "wine = pd.read_csv(\"winequality-red.csv\", sep=';')\n",
    "papers = pd.read_table(\"papers.txt\", delimiter='\\t')\n",
    "\n",
    "print(maximum_by(wine, \"alcohol\"))\n",
    "print()\n",
    "print(maximum_by(papers, \"year\"))\n",
    "print()\n",
    "print(maximum_by(papers, \"cited\"))\n"
   ]
  },
  {
   "cell_type": "markdown",
   "metadata": {},
   "source": [
    "### Task 4 (Medium)\n",
    "Define function ``KL`` which computes the Kullback-Leibler divergence between two discrete probability distributions. The formula for KL-divergence is as follows:\n",
    "$$\n",
    "KL(p, q) = \\sum_{i=1}^N p_i \\log_2\\left(\\frac{p_i}{q_i}\\right) \n",
    "$$\n",
    "\n",
    "The function should take two vectors with non-negative numbers specifying (possibly unnormalized) probability distributions. Before computing KL-divergence, make sure both vectors sum up to 1. The function should work as follows:\n"
   ]
  },
  {
   "cell_type": "code",
   "execution_count": 8,
   "metadata": {},
   "outputs": [
    {
     "name": "stdout",
     "output_type": "stream",
     "text": [
      "0.0\n",
      "1.183710334291801\n"
     ]
    }
   ],
   "source": [
    "import numpy\n",
    "from assignment import KL\n",
    "numpy.random.seed(42)\n",
    "p = numpy.array([0.1, 0.1, 0.2, 0.1, 0.5])\n",
    "# q is the same as p, but scaled\n",
    "q = p * 10\n",
    "# r is normal\n",
    "r = numpy.random.uniform(0, 2, 5)\n",
    "print(KL(p, q))\n",
    "print(KL(p, r))\n"
   ]
  },
  {
   "cell_type": "markdown",
   "metadata": {},
   "source": [
    "### Task 5 (Hard)\n",
    "\n",
    "Write function ``diagonals`` which takes a MxN array, returns a list of all the diagonal vectors of this array, in order from the upper right to  bottom left. For example:"
   ]
  },
  {
   "cell_type": "code",
   "execution_count": 2,
   "metadata": {},
   "outputs": [
    {
     "name": "stdout",
     "output_type": "stream",
     "text": [
      "[[-25. -45.]\n",
      " [ 18. -46.]\n",
      " [-38.  10.]\n",
      " [-31.  17.]]\n",
      "[-45.]\n",
      "[-25. -46.]\n",
      "[18. 10.]\n",
      "[-38.  17.]\n",
      "[-31.]\n"
     ]
    }
   ],
   "source": [
    "import numpy\n",
    "from assignment import diagonals\n",
    "numpy.random.seed(41); a = numpy.random.uniform(-50,50, (4,2)).round()\n",
    "print(a)\n",
    "for x in diagonals(a):\n",
    "    print(x)"
   ]
  }
 ],
 "metadata": {
  "kernelspec": {
   "display_name": "Python 3",
   "language": "python",
   "name": "python3"
  },
  "language_info": {
   "codemirror_mode": {
    "name": "ipython",
    "version": 3
   },
   "file_extension": ".py",
   "mimetype": "text/x-python",
   "name": "python",
   "nbconvert_exporter": "python",
   "pygments_lexer": "ipython3",
   "version": "3.6.5"
  }
 },
 "nbformat": 4,
 "nbformat_minor": 1
}
